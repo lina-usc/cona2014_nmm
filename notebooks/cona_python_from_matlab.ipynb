{
 "cells": [
  {
   "cell_type": "code",
   "execution_count": null,
   "metadata": {},
   "outputs": [],
   "source": [
    "import matplotlib.pyplot as plt\n",
    "from cona2014_nmm import get_all_param, thal_ctx_simulator"
   ]
  },
  {
   "cell_type": "code",
   "execution_count": null,
   "metadata": {},
   "outputs": [],
   "source": [
    "allpar = get_all_param()\n",
    "np_data = thal_ctx_simulator(allpar)"
   ]
  },
  {
   "cell_type": "code",
   "execution_count": null,
   "metadata": {},
   "outputs": [],
   "source": [
    "def min_max_norm(x):\n",
    "    return (x - x.min())/(x.max() - x.min())\n",
    "\n",
    "fig, axes = plt.subplots(2, 1, figsize=(10, 5), sharex=True)\n",
    "\n",
    "t = allpar[\"t\"]\n",
    "axes[0].plot(t, min_max_norm(allpar[\"modulTCN\"]), \"-\", label='TC')\n",
    "axes[0].plot(t, min_max_norm(allpar[\"modulTRN\"]), \"--\", label='Reticular')\n",
    "axes[0].plot(t, min_max_norm(allpar[\"modulP\"]), \"-.\", label='Pyramidal')\n",
    "\n",
    "axes[0].set_title('From wakefulness to deep sleep')\n",
    "axes[0].set_ylabel('Modulatory inputs\\n(normalized)')\n",
    "axes[0].legend(loc=\"right\")#title=\"Input\")\n",
    "\n",
    "\n",
    "axes[1].plot(t[t >=30][::10], np_data[\"vp\"].squeeze())\n",
    "axes[1].set_xlim(30, 105)\n",
    "axes[1].set_xlabel('Time (s)')\n",
    "axes[1].set_ylabel('Membrane\\npotential (mV)')\n",
    "\n",
    "for ax in axes:\n",
    "    for x in range(45, 91, 15):\n",
    "        ax.axvline(x=x, color=\"k\", linestyle=\"dashed\", alpha=0.2)  "
   ]
  },
  {
   "cell_type": "code",
   "execution_count": null,
   "metadata": {},
   "outputs": [],
   "source": [
    "fig.tight_layout()\n",
    "fig.savefig(\"figure11.png\")"
   ]
  }
 ],
 "metadata": {
  "kernelspec": {
   "display_name": "base",
   "language": "python",
   "name": "python3"
  },
  "language_info": {
   "codemirror_mode": {
    "name": "ipython",
    "version": 3
   },
   "file_extension": ".py",
   "mimetype": "text/x-python",
   "name": "python",
   "nbconvert_exporter": "python",
   "pygments_lexer": "ipython3",
   "version": "3.9.7"
  }
 },
 "nbformat": 4,
 "nbformat_minor": 2
}
